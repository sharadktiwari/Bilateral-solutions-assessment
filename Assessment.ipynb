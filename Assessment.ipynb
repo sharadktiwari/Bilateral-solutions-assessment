{
 "cells": [
  {
   "cell_type": "code",
   "execution_count": 1,
   "id": "b4346420",
   "metadata": {},
   "outputs": [],
   "source": [
    "import numpy as np\n",
    "import pandas as pd\n",
    "import pymysql as pm   \n",
    "import mysql.connector as myconn\n",
    "from threading import *\n",
    "import os\n",
    "import time"
   ]
  },
  {
   "cell_type": "markdown",
   "id": "e9c81471",
   "metadata": {},
   "source": [
    "# Must have either pymysql or mysql.connection to establish connection & should work well with python"
   ]
  },
  {
   "cell_type": "markdown",
   "id": "5fe83878",
   "metadata": {},
   "source": [
    "Make three folders and name these respectively - Processing, queue, processed"
   ]
  },
  {
   "cell_type": "code",
   "execution_count": 2,
   "id": "5782e60f",
   "metadata": {},
   "outputs": [],
   "source": [
    "path1 = 'Assessment/Processing/'\n",
    "path2 = 'Assessment/queue/'\n",
    "path3 = 'Assessment/processed/'"
   ]
  },
  {
   "cell_type": "code",
   "execution_count": 10,
   "id": "8ad1dc0f",
   "metadata": {},
   "outputs": [],
   "source": [
    "def create(pa1):\n",
    "    for i in range(10):#Set range according to file creation\n",
    "        with open(os.path.join(pa1, f'myfile{i}.txt'), 'w') as fp:\n",
    "            pass\n",
    "    time.sleep(1)"
   ]
  },
  {
   "cell_type": "code",
   "execution_count": 11,
   "id": "b69e1a72",
   "metadata": {},
   "outputs": [],
   "source": [
    "def move(pa1,pa2):\n",
    "    for j in range(2):#Set range according to create fun\n",
    "        time.sleep(5)\n",
    "        all_files = os.listdir(pa1)\n",
    "        for f1 in all_files:\n",
    "            os.rename(pa1+f1,pa2+f1)"
   ]
  },
  {
   "cell_type": "markdown",
   "id": "9f6765cf",
   "metadata": {},
   "source": [
    "Now establish connection with mysql and execute commands."
   ]
  },
  {
   "cell_type": "code",
   "execution_count": 12,
   "id": "f372c2e7",
   "metadata": {},
   "outputs": [],
   "source": [
    "def update_move(pa2,pa3): #create database & name it Assessment\n",
    "    conn = pm.connect(host='localhost',user='root',password='********',database='Assessment')\n",
    "    cursor = conn.cursor()\n",
    "    for k in range(2):#Set range according to create and move fun\n",
    "        time.sleep(5)\n",
    "        all_files = os.listdir(pa2)\n",
    "        for f2 in all_files:\n",
    "            cursor.execute('create table file_check(file_name varchar(255), present int)')\n",
    "            cursor.execute('insert into file_check (file_name, present) values (f2,1)')\n",
    "            conn.commit()\n",
    "            os.rename(pa2+f2,pa3+f2)"
   ]
  },
  {
   "cell_type": "markdown",
   "id": "7cdc8279",
   "metadata": {},
   "source": [
    "Using seperate thread for each function will ensure that all functions are running at same time."
   ]
  },
  {
   "cell_type": "code",
   "execution_count": null,
   "id": "4902d0f5",
   "metadata": {},
   "outputs": [],
   "source": [
    "t1=Thread(target=create, [args=(path1)])\n",
    "t2=Thread(target=move, [args=(path1,path2)])\n",
    "t3=Thread(target=update_move, [args=(path2,path3)])\n",
    "t1.start()\n",
    "t2.start()\n",
    "t3.start()\n"
   ]
  }
 ],
 "metadata": {
  "kernelspec": {
   "display_name": "Python 3 (ipykernel)",
   "language": "python",
   "name": "python3"
  },
  "language_info": {
   "codemirror_mode": {
    "name": "ipython",
    "version": 3
   },
   "file_extension": ".py",
   "mimetype": "text/x-python",
   "name": "python",
   "nbconvert_exporter": "python",
   "pygments_lexer": "ipython3",
   "version": "3.8.10"
  }
 },
 "nbformat": 4,
 "nbformat_minor": 5
}
